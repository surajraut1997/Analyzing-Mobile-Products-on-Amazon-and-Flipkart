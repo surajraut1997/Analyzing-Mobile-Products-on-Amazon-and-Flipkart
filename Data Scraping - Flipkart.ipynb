{
 "cells": [
  {
   "cell_type": "markdown",
   "id": "d697fdad",
   "metadata": {},
   "source": [
    "# Data Scraping - Amazon Mobile Cateory"
   ]
  },
  {
   "cell_type": "code",
   "execution_count": null,
   "id": "aa70769c",
   "metadata": {},
   "outputs": [],
   "source": [
    "import pandas as pd\n",
    "import requests\n",
    "from bs4 import BeautifulSoup\n",
    "\n",
    "Product_name = []\n",
    "Prices = []\n",
    "Description = []\n",
    "Reviews = []\n",
    "\n",
    "# Loop through multiple pages\n",
    "for page in range(1, 15):  # Scraping the first 5 pages\n",
    "    url = f\"https://www.flipkart.com/search?q=mobiles+under+15000&sid=tyy%2C4io&as=on&as-show=on&otracker=AS_QueryStore_OrganicAutoSuggest_1_13_na_na_na&otracker1=AS_QueryStore_OrganicAutoSuggest_1_13_na_na_na&as-pos=1&as-type=RECENT&suggestionId=mobiles+under+15000%7CMobiles&requestId=b0f82cda-6dfb-4219-82f9-76ef513e1a4a&as-searchtext=mobiles+under&page={page}\"\n",
    "\n",
    "    # Send a GET request to the URL\n",
    "    r = requests.get(url)\n",
    "\n",
    "    # Create a BeautifulSoup object to parse the HTML content\n",
    "    soup = BeautifulSoup(r.text, \"html.parser\")\n",
    "\n",
    "    # Find the container with the search results\n",
    "    box = soup.find(\"div\", class_=\"_1YokD2 _3Mn1Gg\")\n",
    "\n",
    "    # Extract product names\n",
    "    names = box.find_all(\"div\", class_=\"_4rR01T\")\n",
    "    for i in names:\n",
    "        name = i.text\n",
    "        Product_name.append(name)\n",
    "\n",
    "    # Extract prices\n",
    "    prices = box.find_all(\"div\", class_=\"_30jeq3 _1_WHN1\")\n",
    "    for i in prices:\n",
    "        price = i.text\n",
    "        Prices.append(price)\n",
    "\n",
    "    # Extract descriptions\n",
    "    desc = box.find_all(\"ul\", class_=\"_1xgFaf\")\n",
    "    for i in desc:\n",
    "        description = i.text\n",
    "        Description.append(description)\n",
    "\n",
    "    # Extract reviews\n",
    "    reviews = box.find_all(\"div\", class_=\"_3LWZlK\")\n",
    "    for i in reviews:\n",
    "        review = i.text\n",
    "        Reviews.append(review)\n",
    "\n",
    "# Create a pandas DataFrame\n",
    "df = pd.DataFrame({\n",
    "    \"Product Name\": Product_name,\n",
    "    \"Prices\": Prices,\n",
    "    \"Description\": Description,\n",
    "    \"Reviews\": Reviews\n",
    "})\n",
    "\n",
    "# Export the DataFrame as a CSV file\n",
    "df.to_csv(\"Rev15.csv\", index=False)\n"
   ]
  }
 ],
 "metadata": {
  "kernelspec": {
   "display_name": "Python 3 (ipykernel)",
   "language": "python",
   "name": "python3"
  },
  "language_info": {
   "codemirror_mode": {
    "name": "ipython",
    "version": 3
   },
   "file_extension": ".py",
   "mimetype": "text/x-python",
   "name": "python",
   "nbconvert_exporter": "python",
   "pygments_lexer": "ipython3",
   "version": "3.9.13"
  }
 },
 "nbformat": 4,
 "nbformat_minor": 5
}
